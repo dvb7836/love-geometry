{
 "cells": [
  {
   "cell_type": "markdown",
   "id": "utility-retention",
   "metadata": {},
   "source": [
    "# Love Geometry"
   ]
  },
  {
   "cell_type": "markdown",
   "id": "grave-transcription",
   "metadata": {},
   "source": [
    "## Application consists of several modules:\n",
    "- `peg_parser`\n",
    "- `server`\n",
    "\n",
    "Each of the modules has separate `consts.py` file with config valiables.\n",
    "Please configure them up to your choice before starting the application server.\n",
    "\n",
    "- `per_parser` has such default config variables:\n",
    "    ```\n",
    "    LOVE_CASE_SEPARATORS = [\",\", \"but\", \"while\", \"and\", \"\\n\"]\n",
    "    FEELINGS = [\"loves\", \"hates\"]\n",
    "    SENTENCE_SEPARATOR = \".\"\n",
    "    DOUBLE_ENDED_RELATIONSHIP_FLAG_KEYWORD = \"mutually\"\n",
    "    ALLOW_HIGH_SELF_ESTEEM = False\n",
    "    ```\n",
    "    \n",
    "PEG parser can work with 2 or more feelings.\n",
    "\n",
    "PEG parser can work with 1 or more separator.\n",
    "\n",
    "- `server` has such default config variables:\n",
    "    ```\n",
    "    VALIDATE_LOVE_STORIES = True\n",
    "    VISUALIZE_CIRCLES_OF_AFFECTION = False\n",
    "    ```\n",
    "    \n",
    "If `ALLOW_HIGH_SELF_ESTEEM` is `False` and `VALIDATE_LOVE_STORIES` is `True`, than cases like 'A loves A' will appear in errors.\n",
    "\n",
    "`VISUALIZE_CIRCLES_OF_AFFECTION` flag will attempt to show visualization of \"Circles of affection\" on a server side."
   ]
  },
  {
   "cell_type": "code",
   "execution_count": 63,
   "id": "auburn-riverside",
   "metadata": {},
   "outputs": [],
   "source": [
    "import json\n",
    "import requests\n",
    "\n",
    "API_URL = \"http://127.0.0.1:5000/\"\n",
    "PARSER_ENDPOINT = \"parse-love-story\"\n",
    "CIRCLES_OF_AFFECTION_URL = \"find-circles-of-affection\"\n",
    "\n",
    "def show_result(response):\n",
    "    sentence_number = 1\n",
    "    for i, item in enumerate(response):\n",
    "        print(f\"Sentence number: {sentence_number}\")\n",
    "        sentence_number += 1\n",
    "        print(json.dumps(item, indent=4))"
   ]
  },
  {
   "cell_type": "markdown",
   "id": "fundamental-balance",
   "metadata": {},
   "source": [
    "## Some cases to check Parser:"
   ]
  },
  {
   "cell_type": "code",
   "execution_count": 64,
   "id": "deadly-richmond",
   "metadata": {},
   "outputs": [
    {
     "name": "stdout",
     "output_type": "stream",
     "text": [
      "Sentence number: 1\n",
      "{\n",
      "    \"errors\": [],\n",
      "    \"data\": {\n",
      "        \"A\": {\n",
      "            \"loves\": [\n",
      "                \"B\"\n",
      "            ]\n",
      "        }\n",
      "    }\n",
      "}\n"
     ]
    }
   ],
   "source": [
    "love_story = {\"love_story\": \"A loves B.\"}\n",
    "show_result(requests.post(API_URL + PARSER_ENDPOINT, json=love_story).json())"
   ]
  },
  {
   "cell_type": "code",
   "execution_count": 65,
   "id": "foster-combination",
   "metadata": {},
   "outputs": [
    {
     "name": "stdout",
     "output_type": "stream",
     "text": [
      "Sentence number: 1\n",
      "{\n",
      "    \"errors\": [],\n",
      "    \"data\": {\n",
      "        \"A\": {\n",
      "            \"loves\": [\n",
      "                \"B\"\n",
      "            ]\n",
      "        },\n",
      "        \"B\": {\n",
      "            \"hates\": [\n",
      "                \"A\"\n",
      "            ]\n",
      "        }\n",
      "    }\n",
      "}\n",
      "Sentence number: 2\n",
      "{\n",
      "    \"errors\": [],\n",
      "    \"data\": {\n",
      "        \"A\": {\n",
      "            \"hates\": [\n",
      "                \"B\"\n",
      "            ],\n",
      "            \"loves\": [\n",
      "                \"D\"\n",
      "            ]\n",
      "        },\n",
      "        \"B\": {\n",
      "            \"loves\": [\n",
      "                \"C\"\n",
      "            ]\n",
      "        },\n",
      "        \"D\": {\n",
      "            \"hates\": [\n",
      "                \"A\"\n",
      "            ]\n",
      "        }\n",
      "    }\n",
      "}\n"
     ]
    }
   ],
   "source": [
    "love_story = {\"love_story\": \"A loves B but B hates A. \\n A hates B, A loves D while B loves C and D hates A.\"}\n",
    "show_result(requests.post(API_URL + PARSER_ENDPOINT, json=love_story).json())"
   ]
  },
  {
   "cell_type": "markdown",
   "id": "developing-building",
   "metadata": {},
   "source": [
    "#### The most common inconsistencies are checked with parser level validation. \n",
    "Example cases that are validated:\n",
    "\n",
    "    - \"A loves B and A loves B.\"\n",
    "    - \"A loves B and B loves C. A loves B and B loves C.\"\n",
    "    - \"A loves A\" in case if configured"
   ]
  },
  {
   "cell_type": "code",
   "execution_count": 73,
   "id": "legal-supervision",
   "metadata": {},
   "outputs": [
    {
     "name": "stdout",
     "output_type": "stream",
     "text": [
      "Sentence number: 1\n",
      "{\n",
      "    \"errors\": [\n",
      "        \"Duplicated love case: `A loves B`\"\n",
      "    ],\n",
      "    \"data\": {\n",
      "        \"A\": {\n",
      "            \"loves\": [\n",
      "                \"B\",\n",
      "                \"B\"\n",
      "            ]\n",
      "        }\n",
      "    }\n",
      "}\n"
     ]
    }
   ],
   "source": [
    "love_story = {\"love_story\": \"A loves B and A loves B.\"}\n",
    "result  =requests.post(API_URL + PARSER_ENDPOINT, json=love_story).json()\n",
    "show_result(result)"
   ]
  },
  {
   "cell_type": "markdown",
   "id": "amazing-russell",
   "metadata": {},
   "source": [
    "#### Serializer validates only duplicated sentences in story and raises `422 Unprocessable Entity` error if some."
   ]
  },
  {
   "cell_type": "code",
   "execution_count": 74,
   "id": "finnish-enterprise",
   "metadata": {
    "scrolled": false
   },
   "outputs": [
    {
     "name": "stdout",
     "output_type": "stream",
     "text": [
      "<!DOCTYPE HTML PUBLIC \"-//W3C//DTD HTML 3.2 Final//EN\">\n",
      "<title>422 Unprocessable Entity</title>\n",
      "<h1>Unprocessable Entity</h1>\n",
      "<p>Love story has duplicated sentences</p>\n",
      "\n"
     ]
    }
   ],
   "source": [
    "love_story = {\"love_story\": \"A loves B and B loves C. A loves B and B loves C.\"}\n",
    "result  =requests.post(API_URL + PARSER_ENDPOINT, json=love_story)\n",
    "print(result.text)\n"
   ]
  },
  {
   "cell_type": "markdown",
   "id": "fewer-natural",
   "metadata": {},
   "source": [
    "#### Parser can recognize `mutually` keyword"
   ]
  },
  {
   "cell_type": "code",
   "execution_count": 75,
   "id": "bottom-today",
   "metadata": {
    "scrolled": false
   },
   "outputs": [
    {
     "name": "stdout",
     "output_type": "stream",
     "text": [
      "Sentence number: 1\n",
      "{\n",
      "    \"errors\": [],\n",
      "    \"data\": {\n",
      "        \"A\": {\n",
      "            \"loves\": [\n",
      "                \"B\"\n",
      "            ]\n",
      "        },\n",
      "        \"B\": {\n",
      "            \"loves\": [\n",
      "                \"A\"\n",
      "            ]\n",
      "        }\n",
      "    }\n",
      "}\n"
     ]
    }
   ],
   "source": [
    "love_story = {\"love_story\": \"A mutually loves B.\"}\n",
    "result  =requests.post(API_URL + PARSER_ENDPOINT, json=love_story).json()\n",
    "show_result(result)"
   ]
  },
  {
   "cell_type": "markdown",
   "id": "decreased-thumbnail",
   "metadata": {},
   "source": [
    "#### One person can love\\hate more than one other person"
   ]
  },
  {
   "cell_type": "code",
   "execution_count": 76,
   "id": "variable-cotton",
   "metadata": {},
   "outputs": [
    {
     "name": "stdout",
     "output_type": "stream",
     "text": [
      "Sentence number: 1\n",
      "{\n",
      "    \"errors\": [],\n",
      "    \"data\": {\n",
      "        \"A\": {\n",
      "            \"hates\": [\n",
      "                \"D\",\n",
      "                \"C\"\n",
      "            ],\n",
      "            \"loves\": [\n",
      "                \"B\",\n",
      "                \"C\"\n",
      "            ]\n",
      "        }\n",
      "    }\n",
      "}\n"
     ]
    }
   ],
   "source": [
    "love_story = {\"love_story\": \"A loves B and A loves C and A hates D, A hates C.\"}\n",
    "result  =requests.post(API_URL + PARSER_ENDPOINT, json=love_story).json()\n",
    "show_result(result)"
   ]
  },
  {
   "cell_type": "markdown",
   "id": "italic-modeling",
   "metadata": {},
   "source": [
    "#### But no duplicated feelings are allowed"
   ]
  },
  {
   "cell_type": "code",
   "execution_count": 77,
   "id": "human-ready",
   "metadata": {},
   "outputs": [
    {
     "name": "stdout",
     "output_type": "stream",
     "text": [
      "Sentence number: 1\n",
      "{\n",
      "    \"errors\": [\n",
      "        \"Duplicated love case: `B loves / hates A`\"\n",
      "    ],\n",
      "    \"data\": {\n",
      "        \"A\": {\n",
      "            \"hates\": [\n",
      "                \"D\",\n",
      "                \"C\"\n",
      "            ],\n",
      "            \"loves\": [\n",
      "                \"B\",\n",
      "                \"C\"\n",
      "            ]\n",
      "        },\n",
      "        \"B\": {\n",
      "            \"hates\": [\n",
      "                \"A\"\n",
      "            ],\n",
      "            \"loves\": [\n",
      "                \"A\"\n",
      "            ]\n",
      "        }\n",
      "    }\n",
      "}\n"
     ]
    }
   ],
   "source": [
    "love_story = {\"love_story\": \"A mutually loves B and A loves C and A hates D, A hates C and B hates A.\"}\n",
    "result  =requests.post(API_URL + PARSER_ENDPOINT, json=love_story).json()\n",
    "show_result(result)"
   ]
  },
  {
   "cell_type": "markdown",
   "id": "false-fiber",
   "metadata": {},
   "source": [
    "## Some cases to find Circles of Affection and cheaters:"
   ]
  },
  {
   "cell_type": "code",
   "execution_count": 78,
   "id": "altered-fiction",
   "metadata": {
    "scrolled": true
   },
   "outputs": [
    {
     "name": "stdout",
     "output_type": "stream",
     "text": [
      "{\"circles_of_affection\": [{\"loves\": [[\"A\", \"B\"], [\"B\", \"C\"], [\"C\", \"D\"], [\"D\", \"A\"]], \"hates\": [[\"Q\", \"W\"], [\"W\", \"E\"], [\"E\", \"Q\"]]}], \"cheaters\": [[]]}\n"
     ]
    }
   ],
   "source": [
    "love_story = {\"love_story\": \"A loves B and B loves C and C loves D, D loves A and Q hates W and W hates E and E hates Q.\"}\n",
    "result  =requests.post(API_URL + CIRCLES_OF_AFFECTION_URL, json=love_story).json()\n",
    "print(json.dumps(result))\n"
   ]
  },
  {
   "cell_type": "markdown",
   "id": "empirical-relief",
   "metadata": {},
   "source": [
    "#### Someone considered as a cheater in case, if has more than one feeling to the same person.\n",
    "* In case if cheater is found it's got removed from the circle of affection candidates and circle search happens without cheater."
   ]
  },
  {
   "cell_type": "code",
   "execution_count": 79,
   "id": "fantastic-death",
   "metadata": {},
   "outputs": [
    {
     "name": "stdout",
     "output_type": "stream",
     "text": [
      "{\"circles_of_affection\": [{\"loves\": [[\"A\", \"B\"], [\"B\", \"C\"], [\"C\", \"E\"], [\"E\", \"A\"]]}], \"cheaters\": [[\"D\"]]}\n"
     ]
    }
   ],
   "source": [
    "love_story = {\"love_story\": \"A loves B and B loves C and C loves D, D loves A and D hates A and C loves E and E loves A.\"}\n",
    "result  =requests.post(API_URL + CIRCLES_OF_AFFECTION_URL, json=love_story).json()\n",
    "print(json.dumps(result))"
   ]
  },
  {
   "cell_type": "code",
   "execution_count": 80,
   "id": "thirty-phone",
   "metadata": {},
   "outputs": [
    {
     "name": "stdout",
     "output_type": "stream",
     "text": [
      "Thank you.\n"
     ]
    }
   ],
   "source": [
    "print(\"Thank you.\")"
   ]
  }
 ],
 "metadata": {
  "kernelspec": {
   "display_name": "Python 3",
   "language": "python",
   "name": "python3"
  },
  "language_info": {
   "codemirror_mode": {
    "name": "ipython",
    "version": 3
   },
   "file_extension": ".py",
   "mimetype": "text/x-python",
   "name": "python",
   "nbconvert_exporter": "python",
   "pygments_lexer": "ipython3",
   "version": "3.9.1"
  }
 },
 "nbformat": 4,
 "nbformat_minor": 5
}
